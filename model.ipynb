{
 "cells": [
  {
   "cell_type": "code",
   "execution_count": null,
   "id": "c8871715",
   "metadata": {
    "vscode": {
     "languageId": "plaintext"
    }
   },
   "outputs": [],
   "source": [
    "# 데이터셋 경로 (자신의 로컬 경로에 맞게 수정하세요)\n",
    "original_dataset_dir = '/path/to/original/train'  # 예: 'dataset/train'\n",
    "base_dir = '/path/to/small_dataset'  # 예: 'dataset_small'\n",
    "\n",
    "# 학습(train)/검증(validation) 디렉토리 생성\n",
    "train_dir = os.path.join(base_dir, 'train')\n",
    "validation_dir = os.path.join(base_dir, 'validation')\n",
    "\n",
    "train_cats_dir = os.path.join(train_dir, 'cats')\n",
    "train_dogs_dir = os.path.join(train_dir, 'dogs')\n",
    "validation_cats_dir = os.path.join(validation_dir, 'cats')\n",
    "validation_dogs_dir = os.path.join(validation_dir, 'dogs')\n",
    "\n",
    "# 디렉토리가 없다면 생성\n",
    "os.makedirs(train_cats_dir, exist_ok=True)\n",
    "os.makedirs(train_dogs_dir, exist_ok=True)\n",
    "os.makedirs(validation_cats_dir, exist_ok=True)\n",
    "os.makedirs(validation_dogs_dir, exist_ok=True)\n",
    "\n",
    "# 예시: 고양이 이미지를 학습용 1000장, 검증용 500장으로 분리\n",
    "# 개도 마찬가지\n",
    "num_train = 1000\n",
    "num_val = 500\n",
    "\n",
    "# 기존 이미지 리스트\n",
    "cat_fnames = [f for f in os.listdir(original_dataset_dir) if f.startswith('cat')]\n",
    "dog_fnames = [f for f in os.listdir(original_dataset_dir) if f.startswith('dog')]\n",
    "\n",
    "# 랜덤 셔플 (결과 재현성을 위해 시드 고정)\n",
    "random.seed(42)\n",
    "random.shuffle(cat_fnames)\n",
    "random.shuffle(dog_fnames)\n",
    "\n",
    "# 고양이 이미지 복사\n",
    "for i, fname in enumerate(cat_fnames):\n",
    "    src = os.path.join(original_dataset_dir, fname)\n",
    "    if i < num_train:\n",
    "        dst = os.path.join(train_cats_dir, fname)\n",
    "    elif i < num_train + num_val:\n",
    "        dst = os.path.join(validation_cats_dir, fname)\n",
    "    else:\n",
    "        break\n",
    "    shutil.copyfile(src, dst)\n",
    "\n",
    "# 강아지 이미지 복사\n",
    "for i, fname in enumerate(dog_fnames):\n",
    "    src = os.path.join(original_dataset_dir, fname)\n",
    "    if i < num_train:\n",
    "        dst = os.path.join(train_dogs_dir, fname)\n",
    "    elif i < num_train + num_val:\n",
    "        dst = os.path.join(validation_dogs_dir, fname)\n",
    "    else:\n",
    "        break\n",
    "    shutil.copyfile(src, dst)\n",
    "\n",
    "print('이미지 분할 완료:')\n",
    "print('학습용 고양이:', len(os.listdir(train_cats_dir)))\n",
    "print('검증용 고양이:', len(os.listdir(validation_cats_dir)))\n",
    "print('학습용 강아지:', len(os.listdir(train_dogs_dir)))\n",
    "print('검증용 강아지:', len(os.listdir(validation_dogs_dir)))\n"
   ]
  },
  {
   "cell_type": "code",
   "execution_count": null,
   "id": "451ffb1e",
   "metadata": {
    "vscode": {
     "languageId": "plaintext"
    }
   },
   "outputs": [],
   "source": [
    "# 학습용 데이터 증강 설정\n",
    "train_datagen = ImageDataGenerator(\n",
    "    rescale=1./255,             # 픽셀 값을 [0,1]로 정규화\n",
    "    rotation_range=40,          # 최대 40도 회전\n",
    "    width_shift_range=0.2,      # 좌우 이동 범위\n",
    "    height_shift_range=0.2,     # 상하 이동 범위\n",
    "    shear_range=0.2,            # 전단 변환\n",
    "    zoom_range=0.2,             # 확대/축소\n",
    "    horizontal_flip=True,       # 좌우 뒤집기\n",
    "    fill_mode='nearest'         # 빈 공간을 채우는 방식\n",
    ")\n",
    "\n",
    "# 검증용 데이터는 증강 없이, 정규화만\n",
    "validation_datagen = ImageDataGenerator(rescale=1./255)\n",
    "\n",
    "# 배치 단위로 이미지와 라벨을 불러오는 제너레이터 생성\n",
    "batch_size = 32\n",
    "image_size = (150, 150)  # CNN 입력 크기\n",
    "\n",
    "train_generator = train_datagen.flow_from_directory(\n",
    "    train_dir,\n",
    "    target_size=image_size,    # 모든 이미지를 (150, 150) 크기로 조정\n",
    "    batch_size=batch_size,\n",
    "    class_mode='binary'        # 고양이/강아지 구분이므로 이진 분류\n",
    ")\n",
    "\n",
    "validation_generator = validation_datagen.flow_from_directory(\n",
    "    validation_dir,\n",
    "    target_size=image_size,\n",
    "    batch_size=batch_size,\n",
    "    class_mode='binary'\n",
    ")\n"
   ]
  },
  {
   "cell_type": "code",
   "execution_count": null,
   "id": "7a175720",
   "metadata": {
    "vscode": {
     "languageId": "plaintext"
    }
   },
   "outputs": [],
   "source": [
    "model = models.Sequential([\n",
    "    # 첫 번째 컨볼루션 블록\n",
    "    layers.Conv2D(32, (3, 3), activation='relu', input_shape=(150, 150, 3)),\n",
    "    layers.MaxPooling2D((2, 2)),\n",
    "    \n",
    "    # 두 번째 컨볼루션 블록\n",
    "    layers.Conv2D(64, (3, 3), activation='relu'),\n",
    "    layers.MaxPooling2D((2, 2)),\n",
    "    \n",
    "    # 세 번째 컨볼루션 블록\n",
    "    layers.Conv2D(128, (3, 3), activation='relu'),\n",
    "    layers.MaxPooling2D((2, 2)),\n",
    "    \n",
    "    # 네 번째 컨볼루션 블록\n",
    "    layers.Conv2D(128, (3, 3), activation='relu'),\n",
    "    layers.MaxPooling2D((2, 2)),\n",
    "    \n",
    "    # 분류를 위한 완전연결(FC) 계층\n",
    "    layers.Flatten(),\n",
    "    layers.Dropout(0.5),               # 과적합 방지를 위해 Dropout 적용\n",
    "    layers.Dense(512, activation='relu'),\n",
    "    layers.Dense(1, activation='sigmoid')  # 이진 분류이므로 sigmoid 사용\n",
    "])\n",
    "\n",
    "# 모델 구조 요약 출력\n",
    "model.summary()\n"
   ]
  },
  {
   "cell_type": "code",
   "execution_count": null,
   "id": "df981386",
   "metadata": {
    "vscode": {
     "languageId": "plaintext"
    }
   },
   "outputs": [],
   "source": [
    "model.compile(\n",
    "    loss='binary_crossentropy',        # 이진 분류 손실 함수\n",
    "    optimizer=optimizers.RMSprop(learning_rate=1e-4),  # 학습률을 1e-4로 설정\n",
    "    metrics=['accuracy']\n",
    ")\n"
   ]
  },
  {
   "cell_type": "code",
   "execution_count": null,
   "id": "a8ccd0d1",
   "metadata": {
    "vscode": {
     "languageId": "plaintext"
    }
   },
   "outputs": [],
   "source": [
    "# 학습할 에포크 수\n",
    "epochs = 30\n",
    "\n",
    "history = model.fit(\n",
    "    train_generator,\n",
    "    steps_per_epoch=train_generator.samples // batch_size,\n",
    "    epochs=epochs,\n",
    "    validation_data=validation_generator,\n",
    "    validation_steps=validation_generator.samples // batch_size\n",
    ")\n"
   ]
  },
  {
   "cell_type": "code",
   "execution_count": null,
   "id": "1f7fc213",
   "metadata": {
    "vscode": {
     "languageId": "plaintext"
    }
   },
   "outputs": [],
   "source": [
    "acc = history.history['accuracy']\n",
    "val_acc = history.history['val_accuracy']\n",
    "loss = history.history['loss']\n",
    "val_loss = history.history['val_loss']\n",
    "\n",
    "epochs_range = range(1, epochs + 1)\n",
    "\n",
    "# 정확도 그래프\n",
    "plt.figure(figsize=(12, 5))\n",
    "plt.subplot(1, 2, 1)\n",
    "plt.plot(epochs_range, acc, label='Train Accuracy')\n",
    "plt.plot(epochs_range, val_acc, label='Validation Accuracy')\n",
    "plt.title('모델 정확도')\n",
    "plt.legend()\n",
    "\n",
    "# 손실 그래프\n",
    "plt.subplot(1, 2, 2)\n",
    "plt.plot(epochs_range, loss, label='Train Loss')\n",
    "plt.plot(epochs_range, val_loss, label='Validation Loss')\n",
    "plt.title('모델 손실')\n",
    "plt.legend()\n",
    "\n",
    "plt.show()\n"
   ]
  },
  {
   "cell_type": "code",
   "execution_count": null,
   "id": "de64664a",
   "metadata": {
    "vscode": {
     "languageId": "plaintext"
    }
   },
   "outputs": [],
   "source": [
    "final_val_acc = val_acc[-1]\n",
    "final_val_loss = val_loss[-1]\n",
    "print(f\"최종 검증 정확도: {final_val_acc:.4f}, 최종 검증 손실: {final_val_loss:.4f}\")"
   ]
  },
  {
   "cell_type": "code",
   "execution_count": null,
   "id": "908d6d35",
   "metadata": {
    "vscode": {
     "languageId": "plaintext"
    }
   },
   "outputs": [],
   "source": [
    "import numpy as np\n",
    "from tensorflow.keras.preprocessing import image\n",
    "\n",
    "# 테스트할 이미지 경로\n",
    "test_image_path = '/path/to/some_test_image.jpg'  # 고양이 또는 강아지 사진\n",
    "\n",
    "img = image.load_img(test_image_path, target_size=(150, 150))\n",
    "img_array = image.img_to_array(img)\n",
    "img_array = img_array / 255.0  # 정규화\n",
    "img_array = np.expand_dims(img_array, axis=0)  # 배치 차원 추가\n",
    "\n",
    "prediction = model.predict(img_array)  # 출력값이 0~1 사이의 실수\n",
    "# 0에 가까우면 고양이, 1에 가까우면 강아지\n",
    "if prediction < 0.5:\n",
    "    print(f\"모델 예측: 고양이 (확률: {1-prediction[0][0]:.4f})\")\n",
    "else:\n",
    "    print(f\"모델 예측: 강아지 (확률: {prediction[0][0]:.4f})\")"
   ]
  }
 ],
 "metadata": {
  "language_info": {
   "name": "python"
  }
 },
 "nbformat": 4,
 "nbformat_minor": 5
}
